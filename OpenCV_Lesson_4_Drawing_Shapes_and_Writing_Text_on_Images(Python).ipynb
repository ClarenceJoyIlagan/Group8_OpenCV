{
  "nbformat": 4,
  "nbformat_minor": 0,
  "metadata": {
    "colab": {
      "provenance": [],
      "authorship_tag": "ABX9TyNzvvOdwpMrM4naZjeTeLu2",
      "include_colab_link": true
    },
    "kernelspec": {
      "name": "python3",
      "display_name": "Python 3"
    },
    "language_info": {
      "name": "python"
    }
  },
  "cells": [
    {
      "cell_type": "markdown",
      "metadata": {
        "id": "view-in-github",
        "colab_type": "text"
      },
      "source": [
        "<a href=\"https://colab.research.google.com/github/NielaMaeD/Group8_OpenCV/blob/main/OpenCV_Lesson_4_Drawing_Shapes_and_Writing_Text_on_Images(Python).ipynb\" target=\"_parent\"><img src=\"https://colab.research.google.com/assets/colab-badge.svg\" alt=\"Open In Colab\"/></a>"
      ]
    },
    {
      "cell_type": "code",
      "execution_count": 8,
      "metadata": {
        "id": "acf_o1YZhZ0v"
      },
      "outputs": [],
      "source": [
        "!git clone https://github.com/misbah4064/opencvTutorial.git\n",
        "%cd opencvTutorial/\n",
        "from IPython.display import clear_output\n",
        "clear_output()"
      ]
    },
    {
      "cell_type": "markdown",
      "source": [
        "# Part 1: OpenCV Basics"
      ],
      "metadata": {
        "id": "yS1VMEjBTISa"
      }
    },
    {
      "cell_type": "markdown",
      "metadata": {
        "id": "BQ4PXXVXiABu"
      },
      "source": [
        "## **Lesson 4: Drawing Shapes and Writing Text on Images**"
      ]
    },
    {
      "cell_type": "code",
      "source": [
        "import cv2\n",
        "import numpy as np\n",
        "from google.colab.patches import cv2_imshow\n",
        "\n",
        "img = np.zeros((512, 512, 3), np.uint8)\n",
        "#uint8: 0 to 255\n",
        "\n",
        "# Drawing Function\n",
        "# Draw a Circle\n",
        "cv2.circle(img, (100,100), 50, (0,255,0),5)\n",
        "# Draw a Rectangle\n",
        "cv2.rectangle(img,(200,200),(400,500),(0,0,255),5)\n",
        "#Draw a Line\n",
        "cv2.line(img, (160,160),(359,29),(255,0,0),3)\n",
        "#Write a Text\n",
        "cv2.putText(img,\"OpenCV\",(160,160),cv2.FONT_HERSHEY_COMPLEX,2,(0,255,255),2)\n",
        "# Displaying the Image\n",
        "cv2_imshow(img)"
      ],
      "metadata": {
        "colab": {
          "base_uri": "https://localhost:8080/",
          "height": 529
        },
        "id": "1SYfoXoMhoYL",
        "outputId": "3cbb9b6d-4b04-4375-b091-4f1a3727ba03"
      },
      "execution_count": 13,
      "outputs": [
        {
          "output_type": "display_data",
          "data": {
            "text/plain": [
              "<PIL.Image.Image image mode=RGB size=512x512>"
            ],
            "image/png": "[encoded data removed]"
          },
          "metadata": {}
        }
      ]
    }
  ]
}